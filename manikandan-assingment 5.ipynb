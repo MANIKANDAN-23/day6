{
 "cells": [
  {
   "cell_type": "markdown",
   "metadata": {},
   "source": [
    "# ASSINGMENT 5-DAY6"
   ]
  },
  {
   "cell_type": "markdown",
   "metadata": {},
   "source": [
    "QUESTION 1"
   ]
  },
  {
   "cell_type": "code",
   "execution_count": 1,
   "metadata": {},
   "outputs": [
    {
     "name": "stdout",
     "output_type": "stream",
     "text": [
      "WELCOME TO YOUR NEW BANK ACCOUNT \n",
      "ENTER YOUR NAME : \n",
      "manikandan\n",
      "YOUR ACCOUNT NAME :  manikandan\n",
      "ENTER THE AMOUNT TO BE DEPOSITED : 50000\n",
      "\n",
      " AMOUNT DEPOSITED :  50000.0\n",
      "ENTER AMOUNT TO BE WITHDRAWN : 5667\n",
      "\n",
      " YOUR WITHDRAWN AMOUNT :  5667.0\n",
      "\n",
      " NET AVAILABLE BALANCE : 44333.0\n"
     ]
    }
   ],
   "source": [
    "class Bank_Account: \n",
    "    def __init__(self):\n",
    "        self.balance=0\n",
    "        print(\"WELCOME TO YOUR NEW BANK ACCOUNT \\nENTER YOUR NAME : \")\n",
    "    def ownername(self):\n",
    "        a=str(input())\n",
    "        print(\"YOUR ACCOUNT NAME : \",a)\n",
    "        \n",
    "    def deposit(self):\n",
    "        amount=float(input(\"ENTER THE AMOUNT TO BE DEPOSITED : \"))\n",
    "        self.balance += amount\n",
    "        print(\"\\n AMOUNT DEPOSITED : \",amount)\n",
    "        \n",
    "    def withdraw(self):\n",
    "        amount = float(input(\"ENTER AMOUNT TO BE WITHDRAWN : \"))\n",
    "        if self.balance>=amount:\n",
    "            self.balance-=amount\n",
    "            print(\"\\n YOUR WITHDRAWN AMOUNT : \", amount)\n",
    "        else:\n",
    "            print(\"\\n INSUFFICIENT BALANCE \")\n",
    "            \n",
    "    def display(self):\n",
    "        print(\"\\n NET AVAILABLE BALANCE :\",self.balance)\n",
    "    \n",
    "s = Bank_Account() \n",
    "\n",
    "\n",
    "s.ownername()\n",
    "s.deposit() \n",
    "s.withdraw() \n",
    "s.display() \n"
   ]
  },
  {
   "cell_type": "code",
   "execution_count": 2,
   "metadata": {},
   "outputs": [
    {
     "name": "stdout",
     "output_type": "stream",
     "text": [
      "ENTER THE AMOUNT TO BE DEPOSITED : 5666\n",
      "\n",
      " AMOUNT DEPOSITED :  5666.0\n"
     ]
    }
   ],
   "source": [
    "s.deposit()"
   ]
  },
  {
   "cell_type": "code",
   "execution_count": 3,
   "metadata": {},
   "outputs": [
    {
     "name": "stdout",
     "output_type": "stream",
     "text": [
      "ENTER THE AMOUNT TO BE DEPOSITED : 90000\n",
      "\n",
      " AMOUNT DEPOSITED :  90000.0\n"
     ]
    }
   ],
   "source": [
    "s.deposit()"
   ]
  },
  {
   "cell_type": "code",
   "execution_count": 14,
   "metadata": {},
   "outputs": [
    {
     "name": "stdout",
     "output_type": "stream",
     "text": [
      "ENTER THE AMOUNT TO BE DEPOSITED : 70000\n",
      "\n",
      " AMOUNT DEPOSITED :  70000.0\n"
     ]
    }
   ],
   "source": [
    "s.deposit()"
   ]
  },
  {
   "cell_type": "code",
   "execution_count": 4,
   "metadata": {},
   "outputs": [
    {
     "name": "stdout",
     "output_type": "stream",
     "text": [
      "ENTER AMOUNT TO BE WITHDRAWN : 6544\n",
      "\n",
      " YOUR WITHDRAWN AMOUNT :  6544.0\n"
     ]
    }
   ],
   "source": [
    "s.withdraw()"
   ]
  },
  {
   "cell_type": "code",
   "execution_count": 5,
   "metadata": {},
   "outputs": [
    {
     "name": "stdout",
     "output_type": "stream",
     "text": [
      "ENTER AMOUNT TO BE WITHDRAWN : 800007668\n",
      "\n",
      " INSUFFICIENT BALANCE \n"
     ]
    }
   ],
   "source": [
    "s.withdraw()"
   ]
  },
  {
   "cell_type": "markdown",
   "metadata": {},
   "source": [
    "QUESTION 2"
   ]
  },
  {
   "cell_type": "code",
   "execution_count": 6,
   "metadata": {},
   "outputs": [],
   "source": [
    "import math\n",
    "class cone():\n",
    "    def __init__(self,radius,height):\n",
    "        self.radius=radius\n",
    "        self.height=height\n",
    "    def volume(self):\n",
    "        return math.pi*(self.radius*self.radius)*self.height/3\n",
    "    def surface_area(self):\n",
    "        l=math.sqrt(self.radius*self.radius+self.height*self.height)\n",
    "        return math.pi*self.radius*(self.radius+l)"
   ]
  },
  {
   "cell_type": "code",
   "execution_count": 7,
   "metadata": {},
   "outputs": [
    {
     "data": {
      "text/plain": [
       "1047.1975511965977"
      ]
     },
     "execution_count": 7,
     "metadata": {},
     "output_type": "execute_result"
    }
   ],
   "source": [
    "newcone=cone(10,10)\n",
    "newcone.volume()"
   ]
  },
  {
   "cell_type": "code",
   "execution_count": 8,
   "metadata": {},
   "outputs": [
    {
     "data": {
      "text/plain": [
       "758.447559174816"
      ]
     },
     "execution_count": 8,
     "metadata": {},
     "output_type": "execute_result"
    }
   ],
   "source": [
    "newcone.surface_area()"
   ]
  },
  {
   "cell_type": "code",
   "execution_count": null,
   "metadata": {},
   "outputs": [],
   "source": []
  }
 ],
 "metadata": {
  "kernelspec": {
   "display_name": "Python 3",
   "language": "python",
   "name": "python3"
  },
  "language_info": {
   "codemirror_mode": {
    "name": "ipython",
    "version": 3
   },
   "file_extension": ".py",
   "mimetype": "text/x-python",
   "name": "python",
   "nbconvert_exporter": "python",
   "pygments_lexer": "ipython3",
   "version": "3.8.3"
  }
 },
 "nbformat": 4,
 "nbformat_minor": 4
}
